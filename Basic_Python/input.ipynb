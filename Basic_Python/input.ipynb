{
 "cells": [
  {
   "cell_type": "markdown",
   "metadata": {},
   "source": [
    "# 1st Year Unit # 3 Fundamentals of Programming part(2)\n",
    "## 'input()' method is used to get input from the user\n",
    "\n"
   ]
  },
  {
   "cell_type": "code",
   "execution_count": 3,
   "metadata": {},
   "outputs": [
    {
     "name": "stdout",
     "output_type": "stream",
     "text": [
      "My Name is Shahmir\n"
     ]
    }
   ],
   "source": [
    "# Asking the user for their name\n",
    "name = input(\"Enter your name: \")\n",
    "\n",
    "# Printing the name given by the user\n",
    "print(\"My Name is\",name)"
   ]
  },
  {
   "cell_type": "code",
   "execution_count": 2,
   "metadata": {},
   "outputs": [
    {
     "name": "stdout",
     "output_type": "stream",
     "text": [
      "<class 'str'>\n"
     ]
    }
   ],
   "source": [
    "# Asking user to give any number\n",
    "num1 = input(\"Enter any number\")\n",
    "# 'type' is used to check the type of the data\n",
    "print(type(num1)) "
   ]
  },
  {
   "cell_type": "code",
   "execution_count": 13,
   "metadata": {},
   "outputs": [
    {
     "name": "stdout",
     "output_type": "stream",
     "text": [
      "Sum = 34\n",
      "<class 'str'>\n"
     ]
    }
   ],
   "source": [
    "# Taking input for the first number (input is taken as a string by default)\n",
    "num1 = input(\"Enter 1st number: \")  # I gave 3 as input\n",
    "\n",
    "# Taking input for the second number (input is taken as a string by default)\n",
    "num2 = input(\"Enter 2nd number: \")  # I gave 4 as input\n",
    "\n",
    "# Adding the two inputs (which are strings, so they'll concatenate)\n",
    "sum = num1 + num2\n",
    "\n",
    "# Printing the result, which will be '34' because both inputs are treated as strings\n",
    "print(\"Sum =\", sum)\n",
    "\n",
    "# Printing the data type of the sum (which will be a string)\n",
    "print(type(sum))\n"
   ]
  },
  {
   "cell_type": "code",
   "execution_count": 10,
   "metadata": {},
   "outputs": [
    {
     "name": "stdout",
     "output_type": "stream",
     "text": [
      "Sum = 7\n",
      "<class 'int'>\n"
     ]
    }
   ],
   "source": [
    "# 'eval' method is used to convert the input into a number\n",
    "num1 = eval(input(\"Enter 1st number: \"))  # I gave 3 as input\n",
    "num2 = eval(input(\"Enter 2nd number: \"))  # I gave 4 as input\n",
    "\n",
    "# Adding the two numbers\n",
    "sum = num1 + num2\n",
    "\n",
    "# Printing the sum of the two numbers\n",
    "print(\"Sum =\", sum)\n",
    "\n",
    "# Printing the data type of the sum\n",
    "print(type(sum))"
   ]
  }
 ],
 "metadata": {
  "kernelspec": {
   "display_name": "base",
   "language": "python",
   "name": "python3"
  },
  "language_info": {
   "codemirror_mode": {
    "name": "ipython",
    "version": 3
   },
   "file_extension": ".py",
   "mimetype": "text/x-python",
   "name": "python",
   "nbconvert_exporter": "python",
   "pygments_lexer": "ipython3",
   "version": "3.11.7"
  }
 },
 "nbformat": 4,
 "nbformat_minor": 2
}
