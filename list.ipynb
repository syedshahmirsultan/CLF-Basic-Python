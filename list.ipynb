{
 "cells": [
  {
   "cell_type": "markdown",
   "metadata": {},
   "source": [
    "# 1st Year Unit # 3 Fundamentals of Programming part(5)\n"
   ]
  },
  {
   "cell_type": "code",
   "execution_count": 14,
   "metadata": {},
   "outputs": [
    {
     "name": "stdout",
     "output_type": "stream",
     "text": [
      "Length of list1 = 5\n",
      "Sum of list1 = 32\n",
      "Maximum value of list1 = 11\n",
      "Minimum value of list1 = 3\n"
     ]
    }
   ],
   "source": [
    "list1 = [3, 4, 5, 9, 11]\n",
    "\n",
    "# len() is used to get the length of the list\n",
    "print(\"Length of list1 =\", len(list1))\n",
    "\n",
    "# sum() is used to get the sum of the list\n",
    "print(\"Sum of list1 =\", sum(list1))\n",
    "\n",
    "# max() is used to give the maximum value of the list\n",
    "print(\"Maximum value of list1 =\", max(list1))\n",
    "\n",
    "# min() is used to give the minimum value of the list\n",
    "print(\"Minimum value of list1 =\", min(list1))\n"
   ]
  },
  {
   "cell_type": "markdown",
   "metadata": {},
   "source": [
    "## From book pg#115"
   ]
  },
  {
   "cell_type": "code",
   "execution_count": 15,
   "metadata": {},
   "outputs": [
    {
     "name": "stdout",
     "output_type": "stream",
     "text": [
      "[80]\n",
      "[80, 5]\n",
      "[80, 5, 99]\n",
      "[80, 5, 99, 92]\n",
      "[80, 5, 99, 92, 38]\n",
      "[80, 5, 99, 92, 38, 26]\n",
      "[80, 5, 99, 92, 38, 26, 97]\n",
      "[80, 5, 99, 92, 38, 26, 97, 78]\n",
      "[80, 5, 99, 92, 38, 26, 97, 78, 77]\n",
      "[80, 5, 99, 92, 38, 26, 97, 78, 77, 19]\n",
      "#####   After Loop  ##### \n",
      "[80, 5, 99, 92, 38, 26, 97, 78, 77, 19]\n"
     ]
    }
   ],
   "source": [
    "# Importing randint from the random module\n",
    "from random import randint  # randint generates a random number between the given range; here, it will generate numbers from 1 to 99\n",
    "\n",
    "Rnums = []  # Creating an empty list to store random numbers\n",
    "\n",
    "# Loop to generate 10 random numbers\n",
    "for i in range(10):\n",
    "    Rnums.append(randint(1, 99))  # append() adds a random number to the end of the list\n",
    "    print(Rnums)  # Printing the list after adding each random number\n",
    "\n",
    "print(\"#####   After Loop  ##### \")\n",
    "print(Rnums)  # Printing the final list of random numbers\n"
   ]
  },
  {
   "cell_type": "code",
   "execution_count": null,
   "metadata": {},
   "outputs": [],
   "source": []
  }
 ],
 "metadata": {
  "kernelspec": {
   "display_name": "base",
   "language": "python",
   "name": "python3"
  },
  "language_info": {
   "codemirror_mode": {
    "name": "ipython",
    "version": 3
   },
   "file_extension": ".py",
   "mimetype": "text/x-python",
   "name": "python",
   "nbconvert_exporter": "python",
   "pygments_lexer": "ipython3",
   "version": "3.11.7"
  }
 },
 "nbformat": 4,
 "nbformat_minor": 2
}
