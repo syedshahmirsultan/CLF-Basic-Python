{
 "cells": [
  {
   "cell_type": "markdown",
   "metadata": {},
   "source": [
    "# 1st Year Unit # 3 Fundamentals of Programming part(1)\n"
   ]
  },
  {
   "cell_type": "code",
   "execution_count": 7,
   "metadata": {},
   "outputs": [
    {
     "name": "stdout",
     "output_type": "stream",
     "text": [
      "Hello World !\n"
     ]
    }
   ],
   "source": [
    "print(\"Hello World !\")"
   ]
  },
  {
   "cell_type": "code",
   "execution_count": 28,
   "metadata": {},
   "outputs": [
    {
     "name": "stdout",
     "output_type": "stream",
     "text": [
      "Name = Shahmir\n"
     ]
    }
   ],
   "source": [
    "# Declaring a variable 'name' and assigning it the value \"shahmir\"\n",
    "name = \"Shahmir\"\n",
    "\n",
    "# Printing the value of the variable 'name'\n",
    "print(\"Name =\", name)"
   ]
  },
  {
   "cell_type": "code",
   "execution_count": 19,
   "metadata": {},
   "outputs": [
    {
     "name": "stdout",
     "output_type": "stream",
     "text": [
      "****\n"
     ]
    }
   ],
   "source": [
    "# This is possible only in Python: multiplying a string by a number repeats the string\n",
    "print(4 * \"*\") "
   ]
  },
  {
   "cell_type": "markdown",
   "metadata": {},
   "source": [
    "## This is from book pg#104\n",
    "### Before Doing this example first run this command in terminal : pip install datetime"
   ]
  },
  {
   "cell_type": "code",
   "execution_count": 18,
   "metadata": {},
   "outputs": [
    {
     "name": "stdout",
     "output_type": "stream",
     "text": [
      "2024-09-25 18:24:14.755899\n"
     ]
    }
   ],
   "source": [
    "# Importing the datetime module\n",
    "import datetime\n",
    "\n",
    "# Getting the current date and time and storing it in the variable 'x'\n",
    "x = datetime.datetime.now()\n",
    "\n",
    "# Printing the current date and time\n",
    "print(x)"
   ]
  },
  {
   "cell_type": "markdown",
   "metadata": {},
   "source": [
    "## This is from book pg# 105"
   ]
  },
  {
   "cell_type": "code",
   "execution_count": 24,
   "metadata": {},
   "outputs": [
    {
     "name": "stdout",
     "output_type": "stream",
     "text": [
      "Values of x: 5 and y: 3\n",
      "After Swapping Values of x & y\n",
      "Values of x: 3 and y: 5\n"
     ]
    }
   ],
   "source": [
    "x = 5\n",
    "y = 3\n",
    "temp = 0\n",
    "\n",
    "# Printing the initial values of x and y\n",
    "print('Values of x:', x, 'and y:', y)\n",
    "\n",
    "# Swapping the values of x and y using a temp variable\n",
    "temp = x  # Storing the value of x in temp\n",
    "x = y     # Assigning the value of y to x\n",
    "y = temp  # Assigning the value of temp (original x) to y\n",
    "\n",
    "# Printing the values of x and y after swapping\n",
    "print(\"After Swapping Values of x & y\")\n",
    "print('Values of x:', x, 'and y:', y)"
   ]
  }
 ],
 "metadata": {
  "kernelspec": {
   "display_name": "base",
   "language": "python",
   "name": "python3"
  },
  "language_info": {
   "codemirror_mode": {
    "name": "ipython",
    "version": 3
   },
   "file_extension": ".py",
   "mimetype": "text/x-python",
   "name": "python",
   "nbconvert_exporter": "python",
   "pygments_lexer": "ipython3",
   "version": "3.11.7"
  }
 },
 "nbformat": 4,
 "nbformat_minor": 2
}
